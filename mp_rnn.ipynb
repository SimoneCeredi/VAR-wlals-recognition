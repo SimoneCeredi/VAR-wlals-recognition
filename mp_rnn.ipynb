{
 "cells": [
  {
   "cell_type": "code",
   "execution_count": null,
   "metadata": {},
   "outputs": [],
   "source": [
    "# !wget \"https://www.dropbox.com/scl/fi/acun1rm43ge7ljr5qo6p2/wlasl.zip?rlkey=4o90zt8bhip49m7nows9gcsc8&dl=0\"\n",
    "# !pip install gdown\n",
    "# !gdown --id \"1e7nvLl2sdQO9VZDxYbWAZL9UBfUGmONv\""
   ]
  },
  {
   "cell_type": "code",
   "execution_count": null,
   "metadata": {},
   "outputs": [],
   "source": [
    "# !mv wlasl.zip* /wlasl.zip\n",
    "# !unzip -qq /wlasl.zip -d dw-data\n",
    "# !mv dw-data/data data\n",
    "# !rm -r dw-data\n",
    "# !rm wlasl.zip*\n",
    "# !rm -r sample_data\n",
    "# !git clone -b feature/mediapipe https://github.com/sceredi/VAR-wlals-recognition.git ./code\n",
    "# !mv ./code/* ./\n",
    "# !rm -r code"
   ]
  },
  {
   "cell_type": "code",
   "execution_count": null,
   "metadata": {},
   "outputs": [],
   "source": [
    "# !pip install -r requirements.txt\n",
    "# !pip install mediapipe==0.10.9\n",
    "# !pip uninstall -y keras\n",
    "# !pip install keras==2.15.0"
   ]
  },
  {
   "cell_type": "code",
   "execution_count": null,
   "metadata": {},
   "outputs": [],
   "source": [
    "import gc\n",
    "import pandas as pd\n",
    "import numpy as np\n",
    "\n",
    "from handcrafted.app.dataset.dataset import Dataset \n",
    "from wlasl_mediapipe.app.mp.mp_video import MediapipeVideo"
   ]
  },
  {
   "cell_type": "code",
   "execution_count": null,
   "metadata": {},
   "outputs": [],
   "source": [
    "def split_data(word_number: int):\n",
    "  dataset = Dataset('data/WLASL_v0.3.json')\n",
    "  glosses = pd.read_csv(\"data/wlasl_class_list.txt\", sep=\"\\t\", header=None)[1].tolist()\n",
    "  glosses = glosses[:word_number]\n",
    "  train_videos = dataset.get_videos(\n",
    "    lambda video: (video.split == \"train\") and video.gloss in glosses\n",
    "  )\n",
    "  val_videos = dataset.get_videos(\n",
    "    lambda video: (video.split == \"val\") and video.gloss in glosses\n",
    "  )\n",
    "  test_videos = dataset.get_videos(\n",
    "    lambda video: (video.split == \"test\") and video.gloss in glosses\n",
    "  )\n",
    "  train_videos = [MediapipeVideo(video, plot=False, expand_keypoints=False) for video in train_videos]\n",
    "  print(\"Train videos loaded\")\n",
    "  val_videos = [MediapipeVideo(video, plot=False, expand_keypoints=False) for video in val_videos]\n",
    "  print(\"Val videos loaded\")\n",
    "  test_videos = [MediapipeVideo(video, plot=False, expand_keypoints=False) for video in test_videos]\n",
    "  print(\"Test videos loaded\")\n",
    "  return train_videos, val_videos, test_videos, glosses"
   ]
  },
  {
   "cell_type": "code",
   "execution_count": null,
   "metadata": {},
   "outputs": [],
   "source": [
    "word_number = 20\n",
    "train_videos, val_videos, test_videos, glosses = split_data(word_number)"
   ]
  },
  {
   "cell_type": "code",
   "execution_count": null,
   "metadata": {},
   "outputs": [],
   "source": [
    "Y_train = [glosses.index(video.get_base_video().gloss) for video in train_videos]\n",
    "Y_val = [glosses.index(video.get_base_video().gloss) for video in val_videos]\n",
    "Y_test = [glosses.index(video.get_base_video().gloss) for video in test_videos]"
   ]
  },
  {
   "cell_type": "code",
   "execution_count": null,
   "metadata": {},
   "outputs": [],
   "source": [
    "def concatenate_data(video_list):\n",
    "    concatenated_data = []\n",
    "    for video in video_list:\n",
    "        frames_data = []\n",
    "        for i in range(len(video.sign_model.left_hand_list)):\n",
    "            left_hand_data = video.sign_model.lh_embedding[i]\n",
    "            right_hand_data = video.sign_model.rh_embedding[i]\n",
    "            pose_data = video.sign_model.pose_embedding[i]\n",
    "            face_data = video.sign_model.face_embedding[i]\n",
    "            frame_data = np.concatenate((left_hand_data, right_hand_data, pose_data, face_data))\n",
    "            frames_data.append(frame_data)\n",
    "        concatenated_data.append(frames_data)\n",
    "    return concatenated_data\n"
   ]
  },
  {
   "cell_type": "code",
   "execution_count": null,
   "metadata": {},
   "outputs": [],
   "source": [
    "X_train_concatenated = concatenate_data(train_videos)\n",
    "del train_videos\n",
    "gc.collect()\n",
    "X_val_concatenated = concatenate_data(val_videos)\n",
    "del val_videos\n",
    "gc.collect()\n",
    "X_test_concatenated = concatenate_data(test_videos)\n",
    "del test_videos\n",
    "gc.collect()"
   ]
  },
  {
   "cell_type": "code",
   "execution_count": null,
   "metadata": {},
   "outputs": [],
   "source": [
    "print(X_train_concatenated[0][0].shape)"
   ]
  },
  {
   "cell_type": "markdown",
   "metadata": {},
   "source": [
    "# Model definition\n",
    "## Libraries useful for ml"
   ]
  },
  {
   "cell_type": "code",
   "execution_count": null,
   "metadata": {},
   "outputs": [],
   "source": [
    "\n",
    "from tensorflow import keras\n",
    "import tensorflow as tf\n",
    "\n",
    "from tensorflow.keras.utils import to_categorical\n",
    "from tensorflow.keras import layers\n",
    "from tensorflow.keras.optimizers import Adam"
   ]
  },
  {
   "cell_type": "markdown",
   "metadata": {},
   "source": [
    "## Preparing the data"
   ]
  },
  {
   "cell_type": "code",
   "execution_count": null,
   "metadata": {},
   "outputs": [],
   "source": [
    "# Convert your concatenated data to RaggedTensors\n",
    "X_train_ragged = tf.ragged.constant(X_train_concatenated, dtype=tf.float32)\n",
    "del X_train_concatenated\n",
    "gc.collect()\n",
    "X_val_ragged = tf.ragged.constant(X_val_concatenated, dtype=tf.float32)\n",
    "del X_val_concatenated\n",
    "gc.collect()\n",
    "X_test_ragged = tf.ragged.constant(X_test_concatenated, dtype=tf.float32)\n",
    "del X_test_concatenated\n",
    "gc.collect()"
   ]
  },
  {
   "cell_type": "code",
   "execution_count": null,
   "metadata": {},
   "outputs": [],
   "source": [
    "Y_train_one_hot = to_categorical(Y_train, num_classes=word_number)\n",
    "Y_val_one_hot = to_categorical(Y_val, num_classes=word_number)\n",
    "Y_test_one_hot = to_categorical(Y_test, num_classes=word_number)"
   ]
  },
  {
   "cell_type": "code",
   "execution_count": null,
   "metadata": {},
   "outputs": [],
   "source": [
    "input_shape = (None, len(X_train_ragged[0][0]))"
   ]
  },
  {
   "cell_type": "code",
   "execution_count": null,
   "metadata": {},
   "outputs": [],
   "source": [
    "batch_size = 1\n",
    "X_train_dataset = tf.data.Dataset.from_tensor_slices((X_train_ragged, Y_train_one_hot)).shuffle(buffer_size=X_train_ragged.shape[0]).batch(batch_size)\n",
    "del X_train_ragged\n",
    "gc.collect()\n",
    "X_val_dataset = tf.data.Dataset.from_tensor_slices((X_val_ragged, Y_val_one_hot)).shuffle(buffer_size=X_val_ragged.shape[0]).batch(batch_size)\n",
    "del X_val_ragged\n",
    "gc.collect()\n",
    "X_test_dataset = tf.data.Dataset.from_tensor_slices((X_test_ragged, Y_test_one_hot)).shuffle(buffer_size=X_test_ragged.shape[0]).batch(batch_size)\n",
    "del X_test_ragged\n",
    "gc.collect()"
   ]
  },
  {
   "cell_type": "code",
   "execution_count": null,
   "metadata": {},
   "outputs": [],
   "source": [
    "print(Y_test_one_hot)"
   ]
  },
  {
   "cell_type": "markdown",
   "metadata": {},
   "source": [
    "### Defining the model"
   ]
  },
  {
   "cell_type": "code",
   "execution_count": null,
   "metadata": {},
   "outputs": [],
   "source": [
    "def build_rnn_gru(input_shape, gru_units_per_layer=[256, 256], output_count=2000,neuron_count_per_hidden_layer=[128,128],activation='relu'):\n",
    "  model = keras.Sequential()\n",
    "  model.add(layers.Input(shape=input_shape, ragged=True))\n",
    "  for gru_units in gru_units_per_layer[:-1]:\n",
    "    model.add(layers.GRU(units = gru_units, return_sequences=True, activation=activation, dropout=0.2, recurrent_dropout=0.2))\n",
    "  \n",
    "  model.add(layers.GRU(units = gru_units_per_layer[-1], activation=activation, dropout=0.2, recurrent_dropout=0.2))\n",
    "\n",
    "  for n in neuron_count_per_hidden_layer:\n",
    "    model.add(layers.Dense(n,activation=activation))\n",
    "\n",
    "  model.add(layers.Dense(output_count, activation=\"softmax\"))\n",
    "  return model"
   ]
  },
  {
   "cell_type": "code",
   "execution_count": null,
   "metadata": {},
   "outputs": [],
   "source": [
    "def build_rnn_lstm(input_shape, lstm_units_per_layer=[256, 256], output_count=2000, neuron_count_per_hidden_layer=[128, 128], activation='relu'):\n",
    "    model = keras.Sequential()\n",
    "    model.add(layers.Input(shape=input_shape, ragged=True))\n",
    "    \n",
    "    for lstm_units in lstm_units_per_layer[:-1]:\n",
    "        model.add(layers.LSTM(units=lstm_units, return_sequences=True, activation=activation))\n",
    "    \n",
    "    model.add(layers.LSTM(units=lstm_units_per_layer[-1], activation=activation))\n",
    "    \n",
    "    for n in neuron_count_per_hidden_layer:\n",
    "        model.add(layers.Dense(n, activation=activation))\n",
    "    \n",
    "    model.add(layers.Dense(output_count, activation=\"softmax\"))\n",
    "    \n",
    "    return model\n"
   ]
  },
  {
   "cell_type": "markdown",
   "metadata": {},
   "source": [
    "### Model creation"
   ]
  },
  {
   "cell_type": "code",
   "execution_count": null,
   "metadata": {},
   "outputs": [],
   "source": [
    "model = build_rnn_gru(\n",
    "    input_shape=input_shape,\n",
    "    gru_units_per_layer=[64, 32],\n",
    "    output_count=word_number,\n",
    "    neuron_count_per_hidden_layer=[]\n",
    ")"
   ]
  },
  {
   "cell_type": "code",
   "execution_count": null,
   "metadata": {},
   "outputs": [],
   "source": [
    "# model = build_rnn_lstm(\n",
    "#     input_shape=input_shape,\n",
    "#     lstm_units_per_layer=[256, 256, 256],\n",
    "#     output_count=word_number,\n",
    "#     neuron_count_per_hidden_layer=[128, 64, 32]\n",
    "# )"
   ]
  },
  {
   "cell_type": "code",
   "execution_count": null,
   "metadata": {},
   "outputs": [],
   "source": [
    "model.compile(optimizer=Adam(learning_rate=0.001), loss=\"categorical_crossentropy\", metrics=[\"accuracy\"])\n",
    "model.summary()"
   ]
  },
  {
   "cell_type": "code",
   "execution_count": null,
   "metadata": {},
   "outputs": [],
   "source": [
    "keras.utils.plot_model(model, \"multi_input_and_output_model.png\", show_shapes=True)"
   ]
  },
  {
   "cell_type": "markdown",
   "metadata": {},
   "source": [
    "## Model fitting"
   ]
  },
  {
   "cell_type": "code",
   "execution_count": null,
   "metadata": {},
   "outputs": [],
   "source": [
    "n_epochs = 100\n",
    "patience = 10\n",
    "\n",
    "early_stop = keras.callbacks.EarlyStopping(monitor='val_loss', patience=patience, restore_best_weights=True)\n",
    "model.fit(\n",
    "    X_train_dataset,\n",
    "    validation_data=X_val_dataset,  \n",
    "    epochs=n_epochs,\n",
    "    batch_size=batch_size,\n",
    "    callbacks=[early_stop],\n",
    ")"
   ]
  },
  {
   "cell_type": "markdown",
   "metadata": {},
   "source": [
    "## Model predictions"
   ]
  },
  {
   "cell_type": "code",
   "execution_count": null,
   "metadata": {},
   "outputs": [],
   "source": [
    "results = model.evaluate(X_test_dataset)\n",
    "print(\"test loss, test acc:\", results)"
   ]
  },
  {
   "cell_type": "code",
   "execution_count": null,
   "metadata": {},
   "outputs": [],
   "source": [
    "Y_pred = model.predict(X_test_dataset)\n",
    "accuracy = np.mean(np.argmax(Y_pred, axis=1) == Y_test)\n",
    "print(f\"Accuracy: {accuracy}\")"
   ]
  },
  {
   "cell_type": "code",
   "execution_count": null,
   "metadata": {},
   "outputs": [],
   "source": [
    "print(np.argmax(Y_pred, axis=1))\n",
    "print(Y_test)"
   ]
  }
 ],
 "metadata": {
  "kernelspec": {
   "display_name": ".venv",
   "language": "python",
   "name": "python3"
  },
  "language_info": {
   "codemirror_mode": {
    "name": "ipython",
    "version": 3
   },
   "file_extension": ".py",
   "mimetype": "text/x-python",
   "name": "python",
   "nbconvert_exporter": "python",
   "pygments_lexer": "ipython3",
   "version": "3.10.13"
  }
 },
 "nbformat": 4,
 "nbformat_minor": 2
}
